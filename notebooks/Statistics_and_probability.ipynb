{
 "cells": [
  {
   "cell_type": "markdown",
   "id": "8aee887d",
   "metadata": {},
   "source": [
    "# Data Scientist Interview Questions\n",
    "\n",
    "\n",
    "This Jupyter notebook is a helpful resource featuring essential questions about probability and statistics commonly used in data science and machine learning. Covering a broad range of topics within these fields, it aims to benefit practitioners. I am dedicated to keeping this resource accurate and relevant. Your feedback is highly appreciated and crucial for continuous improvement."
   ]
  },
  {
   "cell_type": "markdown",
   "id": "9f0619c9",
   "metadata": {},
   "source": [
    "### Q1- What are the types of data distribution ?"
   ]
  },
  {
   "cell_type": "markdown",
   "id": "0c17b59f",
   "metadata": {},
   "source": [
    "### Q2- What does normal distribution mean ?\n",
    "The normal distribution is very useful in machine learning becasue it has deterministic statistical characteristics  and it helps detect linear relationship between variables. It consists that mode=mean=median: \n",
    "\n",
    "- Mean: called also average of a data set and it is found by summing all numbers in the data set and then dividing by the number of values in the set.\n",
    "- Mode : it is the value that appears most often in a set of data values.\n",
    "- Median : the middle number; found by ordering all data points and picking out the one in the middle (or if there are two middle numbers, taking the mean of those two numbers)."
   ]
  },
  {
   "cell_type": "markdown",
   "id": "4a0ca14c",
   "metadata": {},
   "source": [
    "### Q3- What does Uniform distribution mean?"
   ]
  },
  {
   "cell_type": "markdown",
   "id": "e5370c1b",
   "metadata": {},
   "source": [
    "### Q4- What does Gaussian distribution mean?"
   ]
  },
  {
   "cell_type": "markdown",
   "id": "abc88c5a",
   "metadata": {},
   "source": [
    "### Q5- What Are the Main Measures Used to Describe the Central Tendency of Data?\n",
    "- mean \n",
    "- median \n",
    "- mode"
   ]
  },
  {
   "cell_type": "markdown",
   "id": "7cd99153",
   "metadata": {},
   "source": [
    "### What does Data Spread or Data Dispersion mean ?\n",
    "- Data spread: \n",
    "    - It provides information about the range of values in a dataset.\n",
    "    - It provides information about how dispersed or scattered the individual data points are around a measure of central tendency, such as the mean or median.\n",
    "    - Spread measures help to understand the variability or dispersion of the data.\n",
    "    - **Examples: IQR, range, variance, standard deviation** \n",
    "    - It is crucial to understand the spread of data for better outliers detection, risk assessment, decision-Making etc.\n",
    "- Dispersion:\n",
    "    - It explains how individual data points in a dataset deviate or spread out from a central measure of tendency, such as the mean or median. \n",
    "    - Dispersion measures provide insights into the variability or spread of the data and are crucial for understanding the overall distribution.\n",
    "    - **Examples: IQR, range, variance, standard deviation, Mean Absolute Deviation (MAD), Coefficient of Variation (CV)**\n"
   ]
  },
  {
   "cell_type": "markdown",
   "id": "afa2de75",
   "metadata": {},
   "source": [
    "### Q6- What Are the Main Measures of Variability?\n",
    "- Variability measures are also crucial in describing data distribution. They show how spread-out data points are and how far away they are from the mean.\n",
    "\n",
    "- Some basic questions during a statistics interview might require you to explain the meaning and usage of variability measures. Here’s your cheat sheet:\n",
    "    - Variance measures the average squared distance of data points from the mean. A small variance corresponds to a narrow spread of the values, while a big variance implies that data points are far from the mean.\n",
    "    - Standard deviation is the square root of the variance. It shows the amount of variation of values in a dataset.\n",
    "    - Range is the difference between the maximum and minimum data value. It’s a good indicator of variability when there are no outliers in a dataset, but when there are, it can be misleading.\n",
    "    - Interquartile range (IQR) measures the spread of the middle part of a dataset. It’s essentially the difference between the third and the first quartile."
   ]
  },
  {
   "cell_type": "markdown",
   "id": "9ea4fdce",
   "metadata": {},
   "source": [
    "### Q7- What does Skewness and Kurtosis mean ?\n",
    "- **Skewness:**\n",
    "    - It is a measure of the asymmetry of a distribution.\n",
    "    - A distribution is asymmetrical when its left and right side are not mirror images.\n",
    "    - A skewed data can not be used to generate normal distribution. \n",
    "    - It provides insights into the shape of a distribution.\n",
    "    - The three types of skewness are:\n",
    "        - **Skewness > 0 :** right (or positive) skewness. This indicates that the tail on the right side is longer or fatter than the left side, and the majority of the data points are concentrated on the left side.\n",
    "        - **Skewness < 0 :** left (or negative) skewness. It means the tail on the left side is longer or fatter than the right side, and the majority of the data points are concentrated on the right side.\n",
    "        - **Skewness=0, Zero skewness :** the distribution is perfectly symmetrical.\n",
    "    \n",
    "<img src=\"images/Skewness.png\" width=\"400\">\n",
    "    \n",
    "- **Kurtosis:**\n",
    "    - A statistical measure that describes the shape or \"tailedness\" of a distribution. \n",
    "    - It provides information about the concentration of data points in the tails relative to the center of the distribution. \n",
    "    - The three types of Kurtosis are:\n",
    "        - **Kurtosis=0 (Mesokurtic) :** the distribution has the same tail behavior as a normal distribution.\n",
    "        - **Kurtosis>0 (Leptokurtic):** the distribution has fatter tails (heavier tails) and a sharper peak than a normal distribution. This indicates a higher probability of extreme values.\n",
    "        - **Kurtosis<0 (Platykurtic):** the distribution has thinner tails (lighter tails) and a flatter peak than a normal distribution. This suggests a lower probability of extreme values.\n",
    "   \n",
    "kurtosis measures whether the data is heavy-tailed (more extreme values than a normal distribution) or light-tailed (fewer extreme values than a normal distribution).\n",
    "\n",
    "\n",
    "<img src=\"images/Kurtosis.png\" width=\"400\">"
   ]
  },
  {
   "cell_type": "markdown",
   "id": "41700b02",
   "metadata": {},
   "source": [
    "### Q8-What Is the Difference Between Descriptive and Inferential Statistics?"
   ]
  },
  {
   "cell_type": "markdown",
   "id": "2cec6837",
   "metadata": {},
   "source": [
    "### Q9- What does Correlation mean?"
   ]
  },
  {
   "cell_type": "markdown",
   "id": "80023657",
   "metadata": {},
   "source": [
    "### Q10- What does Autocorrelation mean?"
   ]
  },
  {
   "cell_type": "markdown",
   "id": "d11c2f5b",
   "metadata": {},
   "source": [
    "### Q11- Correlation Vs Autocorrelation"
   ]
  },
  {
   "cell_type": "markdown",
   "id": "f7c4c58e",
   "metadata": {},
   "source": [
    "### Q12- What does probability distribution mean?"
   ]
  },
  {
   "cell_type": "markdown",
   "id": "d35d579a",
   "metadata": {},
   "source": [
    "### Q13- What does sampling distribution mean?"
   ]
  },
  {
   "cell_type": "markdown",
   "id": "1885d5e8",
   "metadata": {},
   "source": [
    "### Q14- What Are the Assumptions of Linear Regression?"
   ]
  },
  {
   "cell_type": "markdown",
   "id": "d98b350e",
   "metadata": {},
   "source": [
    "### Q15- What Is Hypothesis Testing?"
   ]
  },
  {
   "cell_type": "markdown",
   "id": "9dbe9f8d",
   "metadata": {},
   "source": [
    "### Q16- What Is the p-Value and How Do I Interpret It?"
   ]
  },
  {
   "cell_type": "markdown",
   "id": "c425af53",
   "metadata": {},
   "source": [
    "### Q17- What Is the Confidence Interval?"
   ]
  },
  {
   "cell_type": "markdown",
   "id": "deb2be62",
   "metadata": {},
   "source": [
    "### Q18- What Is the Central Limit Theorem?"
   ]
  },
  {
   "cell_type": "markdown",
   "id": "54d4d0b6",
   "metadata": {},
   "source": [
    "### Q19- The Difference Between Probability and Likelihood"
   ]
  },
  {
   "cell_type": "markdown",
   "id": "fa6e15b0",
   "metadata": {},
   "source": [
    "### Q20- "
   ]
  },
  {
   "cell_type": "markdown",
   "id": "7b4cebd9",
   "metadata": {},
   "source": [
    "### Q21-"
   ]
  },
  {
   "cell_type": "markdown",
   "id": "20bbff66",
   "metadata": {},
   "source": [
    "### Q22- "
   ]
  },
  {
   "cell_type": "markdown",
   "id": "1b183e7b",
   "metadata": {},
   "source": [
    "### Q23-"
   ]
  },
  {
   "cell_type": "markdown",
   "id": "bfdd5ae0",
   "metadata": {},
   "source": [
    "### Q24-"
   ]
  },
  {
   "cell_type": "markdown",
   "id": "729c22ed",
   "metadata": {},
   "source": [
    "### Q25-"
   ]
  },
  {
   "cell_type": "markdown",
   "id": "9558e8e7",
   "metadata": {},
   "source": [
    "### Q26-"
   ]
  },
  {
   "cell_type": "markdown",
   "id": "16fc9c04",
   "metadata": {},
   "source": [
    "### Q27-"
   ]
  },
  {
   "cell_type": "markdown",
   "id": "d3a6457c",
   "metadata": {},
   "source": [
    "### Q28-"
   ]
  },
  {
   "cell_type": "markdown",
   "id": "3d4985f3",
   "metadata": {},
   "source": [
    "### Q29-"
   ]
  },
  {
   "cell_type": "markdown",
   "id": "d25fc75a",
   "metadata": {},
   "source": [
    "### Q30- "
   ]
  },
  {
   "cell_type": "markdown",
   "id": "bb7ff08b",
   "metadata": {},
   "source": [
    "### Q31- "
   ]
  },
  {
   "cell_type": "markdown",
   "id": "240d5880",
   "metadata": {},
   "source": [
    "### Q32- "
   ]
  },
  {
   "cell_type": "markdown",
   "id": "67f3849a",
   "metadata": {},
   "source": [
    "### Q33- "
   ]
  },
  {
   "cell_type": "markdown",
   "id": "8a5cdbe5",
   "metadata": {},
   "source": [
    "### Q34-"
   ]
  },
  {
   "cell_type": "markdown",
   "id": "e1968150",
   "metadata": {},
   "source": [
    "### Q35-"
   ]
  },
  {
   "cell_type": "markdown",
   "id": "022de405",
   "metadata": {},
   "source": [
    "### Q36-"
   ]
  },
  {
   "cell_type": "markdown",
   "id": "d1340afa",
   "metadata": {},
   "source": [
    "### Q37-"
   ]
  },
  {
   "cell_type": "markdown",
   "id": "6cea6afe",
   "metadata": {},
   "source": [
    "#### 3. 3-  What does percentile and quantile mean ?\n",
    " Percentile and quantile are statistical concepts used to describe the relative standing or distribution of a particular value within a dataset. Both concepts help understand the position of a data point in relation to other values.\n",
    "#### a- Percentile\n",
    "- A percentile is a measure that indicates the relative standing of a particular value within a dataset.\n",
    "- The pth percentile is the value below which p percent of the data falls.\n",
    "- The dataset is divided into 100 equal parts\n",
    "#### b- Quantile \n",
    "- A quantile is a generic term for dividing the data into intervals or groups of equal probability.\n",
    "- Percentiles are a specific type of quantile, where the division is based on percentages.\n",
    "- The term \"quantile\" is often used more broadly to refer to any division of the data, not necessarily in increments of 1% (as in percentiles).\n",
    "- For example : **Quartile**: the dataset is divided into four equal parts (Q1, Q2, Q3):\n",
    "    - Q1: the 25th percentile is the value below which 25% of the data falls.\n",
    "    - Q2: the 50th percentile is the value below which 50% of the data falls\n",
    "    - Q3: the 75th percentile is the value below which 75% of the data falls\n",
    "#### c- Calculation : \n",
    "- The calculation of percentiles and quantiles involves sorting the data in ascending order and finding the value below which a certain percentage of the data falls.\n",
    "- **Example:** if a student scores in the 90th percentile on a standardized test, it means they performed better than 90% of the students who took the test."
   ]
  },
  {
   "cell_type": "markdown",
   "id": "a8c1be88",
   "metadata": {},
   "source": [
    "#### 4. 2- What does Correlation Analysis mean?\n",
    "- Correlation analysis is a statistical method used to evaluate the strength and direction of the linear relationship between two quantitative variables.\n",
    "- The result of a correlation analysis is a correlation coefficient, which quantifies the degree to which changes in one variable correspond to changes in another.\n",
    "- Correlation analysis is widely used in various fields, including economics, biology, psychology, and data science, to understand relationships between variables and make predictions based on observed patterns.\n",
    "##### a. What are the plot used to illustrate correlation?\n",
    "- Correlation matrix and heatmap \n",
    "- Scatter Plot : it provides a visual representation of the relationship between two variables. X versus Y\n",
    "##### b. How to interpret Correlation Coefficient ? \n",
    "- It is a numerical measure that ranges from -1 to 1.\n",
    "- A positive correlation >0 : indicates that if one variable increases, the other variable tends to increase as well.\n",
    "- A negative correlation <0 : indicates that if one variable increases, the other variable tends to decrease.\n",
    "- A correlation coefficient equal to 0: indicates no linear relationship between the variables.\n",
    "- **Strength of Correlation:**\n",
    "    - The closer the correlation coefficient is to -1 or 1, the stronger the correlation. A coefficient of -1 or 1 implies a perfect linear relationship.\n",
    "    - A coefficient closer to 0 indicates a weaker linear relationship.\n",
    "##### c. What does correlation matrix means? \n",
    "- It is a table that displays the correlation coefficients between many variables. \n",
    "- Each cell Corresponds to the correlation coefficient between two variables. \n",
    "- This matrix helps detect the presence of any positive or negative correlation between variables.\n",
    "- The correlation is calculated using the pearson correlation coefficient so values varies from -1 to 1\n",
    "\n",
    "##### d. Pearson Correlation vs. Spearman Correlation? \n",
    "- If variables have a linear relationship and follow a normal distribution ==> then use Pearson correlation. \n",
    "- Spearman correlation is a non-parametric measure that assesses the strength and direction of monotonic relationships (whether the variables tend to increase or decrease together, but not necessarily at a constant rate)\n",
    "##### e. Cautions and Considerations when analysing correlation?\n",
    "- Correlation does not imply causation : even if two variables are correlated, it does not necessarily mean that one causes the other.\n",
    "- Outliers can have a significant impact on correlation results, so it's important to check for their presence.\n",
    "- Correlation analysis is sensitive to the scale of measurement, so data standardization(eg. z-scores) can be improve results.\n",
    "- Other data transformation such as log tranformation can improve the correlation results."
   ]
  },
  {
   "cell_type": "markdown",
   "id": "be519924",
   "metadata": {},
   "source": [
    "## 17- What does correlation mean in ML?\n",
    "- It corresponds to the statistical relationship between two variables x and y. \n",
    "- It measures the degree to which changes in one variable correspond to changes in another variable.\n",
    "- It does not imply causation, it only quantifies the strength and direction of the linear relationship between variables.\n",
    "- The Pearson correlation coefficient r, is the most used correlation measure and it ranges from -1 to 1: \n",
    "    - If **r > 0: Positive Correlation**, if one variable increases, the other variable tends to increase as well.\n",
    "    - If **r < 0: Negative Correlation**, if one variable increases, the other variable tends to decrease.\n",
    "    - If **r = 0: Zero Correlation**, indicates no linear relationship between the variables.\n",
    "- Here are some key points about correlation: \n",
    "    - **Relationship Strength:** \n",
    "        - The magnitude of the correlation coefficient (closer to 1 or -1) indicates the strength of the relationship.\n",
    "        - A value of 1 or -1 suggests a perfect linear relationship.\n",
    "    - **Correlation Matrix:** \n",
    "        - Displays the correlations between multiple variables, providing insights into the relationships among them.\n",
    "        - Here is an example of correlation matrix: \n",
    "        <div>\n",
    "        <img src=\"images/corr_matrix_CHSI.png\" width=\"400\"/>\n",
    "        </div>\n",
    "    - **Feature Selection:**\n",
    "        - Correlation analysis can be used in feature selection to identify and remove highly correlated features. \n",
    "        - Redundant features may not provide additional information and can lead to overfitting.\n",
    "    - **Model Interpretability:**\n",
    "        - Understanding the correlation between input features and the target variable can aid in model interpretability. \n",
    "        - Features with high correlation to the target may have stronger predictive power.\n",
    "    \n",
    "### 17. 1- What are the correlation limitations ? \n",
    "\n",
    "- It captures linear relationships but may not detect non-linear associations.\n",
    "- Additionally, correlation does not imply causation, and spurious correlations may exist.\n",
    "- For non-linear relationships or cases where data is not normally distributed, Spearman's rank correlation coefficient is an alternative measure.\n"
   ]
  },
  {
   "cell_type": "markdown",
   "id": "16c221e2",
   "metadata": {},
   "source": [
    "## 18- What does cardinality mean in ML?\n",
    "- The term \"cardinality\" refers to the number of unique elements in a set or a feature.\n",
    "- It is a concept often used when dealing with categorical variables or discrete data.\n",
    "- Here are two common contexts in which cardinality is discussed:\n",
    "    - Feature Cardinality\n",
    "    - Set Cardinality\n",
    "### 18. 1- What is Feature Cardinality?\n",
    "- For categorical variables (nominal or ordinal), \n",
    "    - Cardinality represents the number of unique categories or levels within that variable.\n",
    "    - High cardinality: there are many distinct categories and it can be challenging for some machine learning algorithms:\n",
    "        - It may lead to increased dimensionality and computational complexity.\n",
    "        - It can also impact model interpretability.\n",
    "        \n",
    "### 18. 2- What is Set Cardinality?\n",
    "\n",
    "- In mathematical context, cardinality refers to the size or count of elements in a set.\n",
    "- In the context of machine learning, this could relate to the size of a dataset, the number of samples, or the number of unique instances.\n",
    "\n",
    "\n",
    "**Note:**\n",
    "- It's particularly relevant when dealing with categorical variables, where high cardinality can pose challenges that need to be addressed in the data preparation and model-building processes."
   ]
  },
  {
   "cell_type": "markdown",
   "id": "6ef6c10a",
   "metadata": {},
   "source": [
    "## 19- What is Variance? \n",
    "\n",
    "- Understanding variance is crucial in assessing the stability and generalization capability of models.\n",
    "- It refers to the degree of spread or dispersion in a set of values.\n",
    "- It measures the variability of each individual data points (observation) from the mean (average) of the dataset:\n",
    "    - Higher variance: \n",
    "        - Data points are more spread out from the mean\n",
    "        - More dispersed distribution\n",
    "        - A broader spread\n",
    "    - Lower variance:\n",
    "        - Data points are closer to the mean\n",
    "        - More concentrated distribution.\n",
    "        \n",
    "- Formula:  $$\\sigma^2 = { \\sum \\limits _{i=1} ^{n}(X_{i} - \\overline{X}) \\over {n-1}}$$\n",
    "- Where :\n",
    "    - $\\hat X$: the mean\n",
    "    - $n$: the number of data points\n",
    "    - $X_{i}$: represents each individual data point.\n",
    "    \n",
    "- The standard deviation ($\\sigma$) is the square root of the variance.\n",
    "- Understanding the variance of a model's predictions is essential. If the predictions variance is :\n",
    "    - Low: predictions varying little from each other. \n",
    "    - High: \n",
    "        - Can indicate overfitting\n",
    "        - Reading too deelpy into the noise, good performance on training data while poor performance on testing data\n",
    "\n",
    "**Note:**  \n",
    "- Outliers can have a significant impact on the variance, making it sensitive to extreme values.\n",
    "- Understanding and managing variance is crucial for building models that generalize well to new data and avoiding overfitting.\n",
    "- Do not forget the bias-variance trade-off."
   ]
  },
  {
   "cell_type": "markdown",
   "id": "4951aadd",
   "metadata": {},
   "source": [
    "## 20 - What is standard deviation ?\n",
    "\n",
    "- It is a statistical measure that quantifies the amount of variation or dispersion in a set of values.\n",
    "- It provides a way to understand how spread out or clustered data points are around the mean (average) of a dataset. - Denoted by the symbol σ (sigma) for a population and s for a sample.\n",
    "- Interpretation : if Standard Deviation value is \n",
    "    - High :\n",
    "        - Data points are more spread out from the mean.\n",
    "        - The values are dispersed over a wider range, indicating higher variability.\n",
    "    - Small: \n",
    "        - Data points in the dataset are close to the mean.\n",
    "        - The values are tightly clustered identifying low variability or dispersion.\n",
    "- Formula : $$ \\sigma= \\sqrt{ \\sum(x_{i}- \\mu)^2) \\over N}$$\n",
    "- Where : \n",
    "    - σ is the standard deviation.\n",
    "    - $x_{i}$ represents each data point.\n",
    "    - μ is the mean of the dataset.\n",
    "    - N is the total number of data points\n",
    "\n",
    "**Note:**\n",
    "- Standard deviation gives a general overview about the variability or consistency of data.\n",
    "- Can be used to compare two datasets : \n",
    "    - Smaller standard deviation: suggests that the values are more consistent\n",
    "    - Larger standard deviation: implies greater diversity or variability.\n",
    "    - In a normal distribution:\n",
    "        - About 68% of the data falls within one standard deviation of the mean.\n",
    "        - About 95% falls within two standard deviations.\n",
    "        - About 99.7% falls within three standard deviations.\n",
    "<div>\n",
    "<img src=\"images/sd2_orig.png\" width=\"400\"/>\n",
    "</div>"
   ]
  },
  {
   "cell_type": "markdown",
   "id": "bb85fe24",
   "metadata": {},
   "source": [
    "## 22- What does multicolinearity mean?\n",
    "- It is a statistical concept where several independent variables in model are correlated\n",
    "- If correlation coefficient is +/- 1 ==> those two variables \"perfectly collinear\".\n",
    "- "
   ]
  },
  {
   "cell_type": "markdown",
   "id": "c5d33b4d",
   "metadata": {},
   "source": [
    "## 24- What does interpolation and extrapolation mean?\n",
    "- **Interpolation :** \n",
    "    - It is a mathematical and statistical technique used to estimate or predict values within the range of known data points.\n",
    "    - It is used to fill in the gaps between observed data points and provide estimates for values that fall within the known range.\n",
    "    - Example: if you have f(1), f(2) and f(3) then interpolation could be used to estimate the function's value at f(1.5).\n",
    "- **Extrapolation :**\n",
    "    - It corresponds to the process of estimating or predicting values outside the range of known data points.\n",
    "    - It is used to extend the trend or pattern observed in the existing data to make predictions beyond the observed range.\n",
    "    - It can be risky, especially when the data may exhibit behavior that deviates from the observed pattern.\n",
    "    - Example: Example: if you have f(1), f(2) and f(3) then extrapolation could be used to estimate the function's value at f(4).\n",
    "    \n",
    "**Note:**\n",
    "- Interpolation is generally considered more reliable and accurate because it involves estimating within the known range.\n",
    "- Extrapolation carries a higher risk of inaccuracy, especially if the underlying pattern in the data changes beyond the observed range."
   ]
  },
  {
   "cell_type": "markdown",
   "id": "ae5d6d00",
   "metadata": {},
   "source": [
    "## 25- Correlation matrix versus Covariance matrix ? \n",
    "- Correlaion matrix:\n",
    "    - A correlation matrix is a table that shows the correlation coefficients between many variables.\n",
    "    - Correlation coefficients in the matrix:\n",
    "        - Are standardized, ranging from -1 to 1\n",
    "        - If coefficients >0 : we have positive correlation\n",
    "        - If coefficients <0 : we have negative correlation\n",
    "        - If coefficients =0 : indicates no correlation\n",
    "        - If coefficients =1 : we have a perfect positive correlation\n",
    "        - If coefficients =-1 : we have a perfect negative correlation\n",
    "    - It is a **standardized** form of covariance.\n",
    "    - It measures the linear relationship of variables.\n",
    "    - Correlation measures when a change in one variable can result a change in another.\n",
    "    - How strongly two random variables are related to each other.\n",
    "\n",
    "- Covariance matrix: \n",
    "    - Tells us the direction of the linear relationship between two random variables\n",
    "    - The covariance matrix is in the original units of the variables, making it **sensitive to changes in scale**.\n",
    "    - It is used to determine how much two random variables vary together.\n",
    "**Note:**\n",
    "- For covariance, interpreting the strength of the relationship is challenging due to the scale sensitivity.\n",
    "- In practice, correlation matrices are often preferred in data analysis and statistics because they provide standardized measures of association that are easier to interpret and compare.\n",
    "- Correlation is easier to interpret as it ranges between -1 and 1\n",
    "- Covariance is sensitive to scale and may not provide a clear indication of the strength of the relationship.\n",
    " "
   ]
  },
  {
   "cell_type": "markdown",
   "id": "22b14ad1",
   "metadata": {},
   "source": [
    "## 26- What is Maximal Information Coefficient (MIC)? \n",
    "- It is used to measure the strength and complexity of the relationship between two variables.\n",
    "- It is designed to be a robust measure of association, capable of identifying various types of relationships between variables, including monotonic, non-monotonic, and complex dependencies.\n",
    "- MIC values range from 0 to 1, where 0 indicates no association, and 1 indicates a perfect association.\n",
    "- The MIC is computed by searching over grids of possible cutoffs to find the maximal value of the mutual information statistic.\n",
    "- It is often used in exploratory data analysis, feature selection, and identifying relevant variables in high-dimensional datasets\n",
    "- MIC is considered nonparametric because it does not assume a specific functional form for the relationship between variables\n",
    "\n",
    "**Note:**\n",
    "- While MIC is a powerful measure, it may not perform optimally in all scenarios, and its effectiveness can depend on the characteristics of the data.\n"
   ]
  },
  {
   "cell_type": "markdown",
   "id": "0a70510e",
   "metadata": {},
   "source": [
    "\n",
    "## 27- What is the difference between Type I error and Type II error ?\n",
    "- Type I error (False Positive):\n",
    "    - Occurs when the null hypothesis is true and we incorrectly reject it\n",
    "    - It represents the situation of False positive, where the test incorrectly concludes that there is an effect or difference when, in reality, there is none.\n",
    "    - Often denoted by α, the significance level, which is the probability of making a Type I error.\n",
    "    - Example: Concluding that a new drug is effective when it actually has no effect.\n",
    "- Type II error (False Negative):\n",
    "    - Occurs when the null hypothesis is false and we accept it. \n",
    "    - False negative something has happened and we are missing it.\n",
    "    - It represents the situation where the test fails to detect a real effect or difference when, in reality, there is one.\n",
    "    - Often denoted by β, which is the probability of making a Type II error\n",
    "    - 1−β represents the probability of correctly rejecting a false null hypothesis.\n",
    "    - Example: Failing to conclude that a new drug is effective when it actually has a positive effect."
   ]
  },
  {
   "cell_type": "code",
   "execution_count": null,
   "id": "71ba6a25",
   "metadata": {},
   "outputs": [],
   "source": []
  },
  {
   "cell_type": "code",
   "execution_count": null,
   "id": "ed790fcb",
   "metadata": {},
   "outputs": [],
   "source": []
  }
 ],
 "metadata": {
  "kernelspec": {
   "display_name": "Python 3 (ipykernel)",
   "language": "python",
   "name": "python3"
  },
  "language_info": {
   "codemirror_mode": {
    "name": "ipython",
    "version": 3
   },
   "file_extension": ".py",
   "mimetype": "text/x-python",
   "name": "python",
   "nbconvert_exporter": "python",
   "pygments_lexer": "ipython3",
   "version": "3.9.17"
  }
 },
 "nbformat": 4,
 "nbformat_minor": 5
}
